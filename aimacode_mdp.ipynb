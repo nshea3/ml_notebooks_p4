{
 "cells": [
  {
   "cell_type": "code",
   "execution_count": 1,
   "metadata": {},
   "outputs": [],
   "source": [
    "from mdp import *\n",
    "from utils import *"
   ]
  },
  {
   "cell_type": "code",
   "execution_count": 2,
   "metadata": {},
   "outputs": [],
   "source": [
    "gridmdp = GridMDP([[-0.04, -0.04, -0.04, +1],\n",
    "                   [-0.04, None, -0.04, -1],\n",
    "                   [-0.04, -0.04, -0.04, -0.04]],\n",
    "                   terminals=[(3, 2), (3, 1)])"
   ]
  },
  {
   "cell_type": "code",
   "execution_count": 6,
   "metadata": {},
   "outputs": [
    {
     "data": {
      "text/plain": [
       "[['>', '>', '>', '.'], ['^', None, '^', '.'], ['^', '>', '^', '<']]"
      ]
     },
     "execution_count": 6,
     "metadata": {},
     "output_type": "execute_result"
    }
   ],
   "source": [
    "pi = best_policy(gridmdp, value_iteration(gridmdp, .01))\n",
    "gridmdp.to_arrows(pi)"
   ]
  },
  {
   "cell_type": "code",
   "execution_count": 7,
   "metadata": {},
   "outputs": [
    {
     "name": "stdout",
     "output_type": "stream",
     "text": [
      ">   >      >   .\n",
      "^   None   ^   .\n",
      "^   >      ^   <\n"
     ]
    }
   ],
   "source": [
    "from utils import print_table\n",
    "print_table(gridmdp.to_arrows(pi))"
   ]
  },
  {
   "cell_type": "code",
   "execution_count": 8,
   "metadata": {},
   "outputs": [
    {
     "data": {
      "text/plain": [
       "{(0, 0): 0.2962883154554812,\n",
       " (0, 1): 0.3984432178350045,\n",
       " (0, 2): 0.5093943765842497,\n",
       " (1, 0): 0.25386699846479516,\n",
       " (1, 2): 0.649585681261095,\n",
       " (2, 0): 0.3447542300124158,\n",
       " (2, 1): 0.48644001739269643,\n",
       " (2, 2): 0.7953620878466678,\n",
       " (3, 0): 0.12987274656746342,\n",
       " (3, 1): -1.0,\n",
       " (3, 2): 1.0}"
      ]
     },
     "execution_count": 8,
     "metadata": {},
     "output_type": "execute_result"
    }
   ],
   "source": [
    "value_iteration(gridmdp)"
   ]
  },
  {
   "cell_type": "code",
   "execution_count": 10,
   "metadata": {},
   "outputs": [
    {
     "data": {
      "text/plain": [
       "{(0, 0): {(-1, 0): [(0.8, (0, 0)), (0.1, (0, 1)), (0.1, (0, 0))],\n",
       "  (0, -1): [(0.8, (0, 0)), (0.1, (0, 0)), (0.1, (1, 0))],\n",
       "  (0, 1): [(0.8, (0, 1)), (0.1, (1, 0)), (0.1, (0, 0))],\n",
       "  (1, 0): [(0.8, (1, 0)), (0.1, (0, 0)), (0.1, (0, 1))]},\n",
       " (0, 1): {(-1, 0): [(0.8, (0, 1)), (0.1, (0, 2)), (0.1, (0, 0))],\n",
       "  (0, -1): [(0.8, (0, 0)), (0.1, (0, 1)), (0.1, (0, 1))],\n",
       "  (0, 1): [(0.8, (0, 2)), (0.1, (0, 1)), (0.1, (0, 1))],\n",
       "  (1, 0): [(0.8, (0, 1)), (0.1, (0, 0)), (0.1, (0, 2))]},\n",
       " (0, 2): {(-1, 0): [(0.8, (0, 2)), (0.1, (0, 2)), (0.1, (0, 1))],\n",
       "  (0, -1): [(0.8, (0, 1)), (0.1, (0, 2)), (0.1, (1, 2))],\n",
       "  (0, 1): [(0.8, (0, 2)), (0.1, (1, 2)), (0.1, (0, 2))],\n",
       "  (1, 0): [(0.8, (1, 2)), (0.1, (0, 1)), (0.1, (0, 2))]},\n",
       " (1, 0): {(-1, 0): [(0.8, (0, 0)), (0.1, (1, 0)), (0.1, (1, 0))],\n",
       "  (0, -1): [(0.8, (1, 0)), (0.1, (0, 0)), (0.1, (2, 0))],\n",
       "  (0, 1): [(0.8, (1, 0)), (0.1, (2, 0)), (0.1, (0, 0))],\n",
       "  (1, 0): [(0.8, (2, 0)), (0.1, (1, 0)), (0.1, (1, 0))]},\n",
       " (1, 2): {(-1, 0): [(0.8, (0, 2)), (0.1, (1, 2)), (0.1, (1, 2))],\n",
       "  (0, -1): [(0.8, (1, 2)), (0.1, (0, 2)), (0.1, (2, 2))],\n",
       "  (0, 1): [(0.8, (1, 2)), (0.1, (2, 2)), (0.1, (0, 2))],\n",
       "  (1, 0): [(0.8, (2, 2)), (0.1, (1, 2)), (0.1, (1, 2))]},\n",
       " (2, 0): {(-1, 0): [(0.8, (1, 0)), (0.1, (2, 1)), (0.1, (2, 0))],\n",
       "  (0, -1): [(0.8, (2, 0)), (0.1, (1, 0)), (0.1, (3, 0))],\n",
       "  (0, 1): [(0.8, (2, 1)), (0.1, (3, 0)), (0.1, (1, 0))],\n",
       "  (1, 0): [(0.8, (3, 0)), (0.1, (2, 0)), (0.1, (2, 1))]},\n",
       " (2, 1): {(-1, 0): [(0.8, (2, 1)), (0.1, (2, 2)), (0.1, (2, 0))],\n",
       "  (0, -1): [(0.8, (2, 0)), (0.1, (2, 1)), (0.1, (3, 1))],\n",
       "  (0, 1): [(0.8, (2, 2)), (0.1, (3, 1)), (0.1, (2, 1))],\n",
       "  (1, 0): [(0.8, (3, 1)), (0.1, (2, 0)), (0.1, (2, 2))]},\n",
       " (2, 2): {(-1, 0): [(0.8, (1, 2)), (0.1, (2, 2)), (0.1, (2, 1))],\n",
       "  (0, -1): [(0.8, (2, 1)), (0.1, (1, 2)), (0.1, (3, 2))],\n",
       "  (0, 1): [(0.8, (2, 2)), (0.1, (3, 2)), (0.1, (1, 2))],\n",
       "  (1, 0): [(0.8, (3, 2)), (0.1, (2, 1)), (0.1, (2, 2))]},\n",
       " (3, 0): {(-1, 0): [(0.8, (2, 0)), (0.1, (3, 1)), (0.1, (3, 0))],\n",
       "  (0, -1): [(0.8, (3, 0)), (0.1, (2, 0)), (0.1, (3, 0))],\n",
       "  (0, 1): [(0.8, (3, 1)), (0.1, (3, 0)), (0.1, (2, 0))],\n",
       "  (1, 0): [(0.8, (3, 0)), (0.1, (3, 0)), (0.1, (3, 1))]},\n",
       " (3, 1): {(-1, 0): [(0.8, (2, 1)), (0.1, (3, 2)), (0.1, (3, 0))],\n",
       "  (0, -1): [(0.8, (3, 0)), (0.1, (2, 1)), (0.1, (3, 1))],\n",
       "  (0, 1): [(0.8, (3, 2)), (0.1, (3, 1)), (0.1, (2, 1))],\n",
       "  (1, 0): [(0.8, (3, 1)), (0.1, (3, 0)), (0.1, (3, 2))]},\n",
       " (3, 2): {(-1, 0): [(0.8, (2, 2)), (0.1, (3, 2)), (0.1, (3, 1))],\n",
       "  (0, -1): [(0.8, (3, 1)), (0.1, (2, 2)), (0.1, (3, 2))],\n",
       "  (0, 1): [(0.8, (3, 2)), (0.1, (3, 2)), (0.1, (2, 2))],\n",
       "  (1, 0): [(0.8, (3, 2)), (0.1, (3, 1)), (0.1, (3, 2))]}}"
      ]
     },
     "execution_count": 10,
     "metadata": {},
     "output_type": "execute_result"
    }
   ],
   "source": []
  },
  {
   "cell_type": "code",
   "execution_count": 43,
   "metadata": {},
   "outputs": [
    {
     "name": "stdout",
     "output_type": "stream",
     "text": [
      "0.2962883154554812\n",
      "0 0\n",
      "0.25386699846479516\n",
      "0 1\n",
      "0.3447542300124158\n",
      "0 2\n",
      "0.12987274656746342\n",
      "0 3\n",
      "0.3984432178350045\n",
      "1 0\n",
      "nan\n",
      "1 1\n",
      "0.48644001739269643\n",
      "1 2\n",
      "-1.0\n",
      "1 3\n",
      "0.5093943765842497\n",
      "2 0\n",
      "0.649585681261095\n",
      "2 1\n",
      "0.7953620878466678\n",
      "2 2\n",
      "1.0\n",
      "2 3\n",
      "[[ 0.29628832  0.253867    0.34475423  0.12987275]\n",
      " [ 0.39844322         nan  0.48644002 -1.        ]\n",
      " [ 0.50939438  0.64958568  0.79536209  1.        ]]\n"
     ]
    },
    {
     "data": {
      "text/plain": [
       "<matplotlib.axes._subplots.AxesSubplot at 0x222cb3f0d68>"
      ]
     },
     "execution_count": 43,
     "metadata": {},
     "output_type": "execute_result"
    },
    {
     "data": {
      "image/png": "[encoded data removed]",
      "text/plain": [
       "<matplotlib.figure.Figure at 0x222cb3f0828>"
      ]
     },
     "metadata": {},
     "output_type": "display_data"
    }
   ],
   "source": [
    "import itertools\n",
    "import seaborn as sns\n",
    "import pandas as pd\n",
    "import matplotlib.pyplot as plt\n",
    "\n",
    "%matplotlib inline\n",
    "\n",
    "vi_utility_dict = value_iteration(gridmdp)\n",
    "vi_utility_array = np.ndarray((3,4))\n",
    "\n",
    "#for key,value in vi_utility_dict.items():\n",
    "#    vi_utility_array[key[1],key[0]] = value\n",
    "\n",
    "\n",
    "    \n",
    "for r in range(vi_utility_array.shape[1]):\n",
    "    for c in range(vi_utility_array.shape[0]):\n",
    "        pass\n",
    "        \n",
    "for (r, c) in itertools.product(range(vi_utility_array.shape[0]), range(vi_utility_array.shape[1])):\n",
    "    vi_utility_array[r,c] = vi_utility_dict.get((c, r), np.NaN)\n",
    "    print(vi_utility_array[r,c])\n",
    "    print(r, c)\n",
    "\n",
    "print(vi_utility_array)\n",
    "#vi_utility_array[[r],[c]] = vi_utility_dict.get((r, c), -2)\n",
    "\n",
    "utility_array_df = pd.DataFrame(vi_utility_array)\n",
    "\n",
    "sns.heatmap(utility_array_df, annot=True)\n"
   ]
  },
  {
   "cell_type": "code",
   "execution_count": null,
   "metadata": {},
   "outputs": [],
   "source": []
  }
 ],
 "metadata": {
  "kernelspec": {
   "display_name": "Python 3",
   "language": "python",
   "name": "python3"
  },
  "language_info": {
   "codemirror_mode": {
    "name": "ipython",
    "version": 3
   },
   "file_extension": ".py",
   "mimetype": "text/x-python",
   "name": "python",
   "nbconvert_exporter": "python",
   "pygments_lexer": "ipython3",
   "version": "3.6.3"
  }
 },
 "nbformat": 4,
 "nbformat_minor": 2
}
