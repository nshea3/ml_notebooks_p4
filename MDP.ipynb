{
 "cells": [
  {
   "cell_type": "code",
   "execution_count": 2,
   "metadata": {},
   "outputs": [],
   "source": [
    "from utils import *\n",
    "\n",
    "class MDP:\n",
    "\n",
    "    def __init__(self, init, actlist, terminals, gamma=.9):\n",
    "        update(self, init=init, actlist=actlist, terminals=terminals,\n",
    "               gamma=gamma, states=set(), reward={})\n",
    "\n",
    "    def R(self, state):\n",
    "        return self.reward[state]\n",
    "\n",
    "    def T(state, action):\n",
    "        abstract\n",
    "\n",
    "    def actions(self, state):\n",
    "        if state in self.terminals:\n",
    "            return [None]\n",
    "        else:\n",
    "            return self.actlist\n",
    "\n",
    "class GridMDP(MDP):\n",
    "\n",
    "    def __init__(self, grid, terminals, init=(0, 0), gamma=.9):\n",
    "        grid.reverse() ## because we want row 0 on bottom, not on top\n",
    "        MDP.__init__(self, init, actlist=orientations,\n",
    "                     terminals=terminals, gamma=gamma)\n",
    "        update(self, grid=grid, rows=len(grid), cols=len(grid[0]))\n",
    "        for x in range(self.cols):\n",
    "            for y in range(self.rows):\n",
    "                self.reward[x, y] = grid[y][x]\n",
    "                if grid[y][x] is not None:\n",
    "                    self.states.add((x, y))\n",
    "\n",
    "    def T(self, state, action):\n",
    "        if action == None:\n",
    "            return [(0.0, state)]\n",
    "        else:\n",
    "            return [(0.8, self.go(state, action)),\n",
    "                    (0.1, self.go(state, turn_right(action))),\n",
    "                    (0.1, self.go(state, turn_left(action)))]\n",
    "\n",
    "    def go(self, state, direction):\n",
    "        state1 = vector_add(state, direction)\n",
    "        return if_(state1 in self.states, state1, state)\n",
    "\n",
    "    def to_grid(self, mapping):\n",
    "        return list(reversed([[mapping.get((x,y), None)\n",
    "                               for x in range(self.cols)]\n",
    "                              for y in range(self.rows)]))\n",
    "\n",
    "    def to_arrows(self, policy):\n",
    "        chars = {(1, 0):'>', (0, 1):'^', (-1, 0):'<', (0, -1):'v', None: '.'}\n",
    "        return self.to_grid(dict([(s, chars[a]) for (s, a) in policy.items()]))\n",
    "\n",
    "def value_iteration(mdp, epsilon=0.001):\n",
    "    \n",
    "    U1 = dict([(s, 0) for s in mdp.states])\n",
    "    R, T, gamma = mdp.R, mdp.T, mdp.gamma\n",
    "    while True:\n",
    "        U = U1.copy()\n",
    "        delta = 0\n",
    "        for s in mdp.states:\n",
    "            U1[s] = R(s) + gamma * max([sum([p * U[s1] for (p, s1) in T(s, a)])\n",
    "                                        for a in mdp.actions(s)])\n",
    "            delta = max(delta, abs(U1[s] - U[s]))\n",
    "        if delta < epsilon * (1 - gamma) / gamma:\n",
    "             return U\n",
    "\n",
    "def best_policy(mdp, U):\n",
    "\n",
    "    pi = {}\n",
    "    for s in mdp.states:\n",
    "        pi[s] = argmax(mdp.actions(s), lambda a:expected_utility(a, s, U, mdp))\n",
    "    return pi\n",
    "\n",
    "def expected_utility(a, s, U, mdp):\n",
    "\n",
    "    return sum([p * U[s1] for (p, s1) in mdp.T(s, a)])\n",
    "\n",
    "def policy_iteration(mdp):\n",
    "\n",
    "    U = dict([(s, 0) for s in mdp.states])\n",
    "    pi = dict([(s, random.choice(mdp.actions(s))) for s in mdp.states])\n",
    "    while True:\n",
    "        U = policy_evaluation(pi, U, mdp)\n",
    "        unchanged = True\n",
    "        for s in mdp.states:\n",
    "            a = argmax(mdp.actions(s), lambda a: expected_utility(a,s,U,mdp))\n",
    "            if a != pi[s]:\n",
    "                pi[s] = a\n",
    "                unchanged = False\n",
    "        if unchanged:\n",
    "            return pi\n",
    "\n",
    "def policy_evaluation(pi, U, mdp, k=20):\n",
    "\n",
    "    R, T, gamma = mdp.R, mdp.T, mdp.gamma\n",
    "    for i in range(k):\n",
    "        for s in mdp.states:\n",
    "            U[s] = R(s) + gamma * sum([p * U[s] for (p, s1) in T(s, pi[s])])\n",
    "    return U\n",
    "\n",
    "orientations = [(1,0), (0, 1), (-1, 0), (0, -1)]"
   ]
  },
  {
   "cell_type": "code",
   "execution_count": 3,
   "metadata": {},
   "outputs": [],
   "source": [
    "grid_mdp_1 = GridMDP([[-0.04, -0.04, -0.04, +1],\n",
    "                     [-0.04, None,  -0.04, -1],\n",
    "                     [-0.04, -0.04, -0.04, -0.04]],\n",
    "                    terminals=[(3, 2), (3, 1)])"
   ]
  },
  {
   "cell_type": "code",
   "execution_count": 4,
   "metadata": {},
   "outputs": [
    {
     "data": {
      "text/plain": [
       "{(0, 0): 0.2962883154554812,\n",
       " (0, 1): 0.3984432178350045,\n",
       " (0, 2): 0.5093943765842497,\n",
       " (1, 0): 0.25386699846479516,\n",
       " (1, 2): 0.649585681261095,\n",
       " (2, 0): 0.3447542300124158,\n",
       " (2, 1): 0.48644001739269643,\n",
       " (2, 2): 0.7953620878466678,\n",
       " (3, 0): 0.12987274656746342,\n",
       " (3, 1): -1.0,\n",
       " (3, 2): 1.0}"
      ]
     },
     "execution_count": 4,
     "metadata": {},
     "output_type": "execute_result"
    }
   ],
   "source": [
    "value_iteration(grid_mdp_1)"
   ]
  },
  {
   "cell_type": "code",
   "execution_count": 5,
   "metadata": {},
   "outputs": [
    {
     "data": {
      "text/plain": [
       "[['>', '>', '>', '.'], ['^', None, '^', '.'], ['^', '>', '^', '<']]"
      ]
     },
     "execution_count": 5,
     "metadata": {},
     "output_type": "execute_result"
    }
   ],
   "source": [
    "grid_mdp_1.to_arrows(best_policy(grid_mdp_1, value_iteration(grid_mdp_1)))"
   ]
  },
  {
   "cell_type": "code",
   "execution_count": 27,
   "metadata": {},
   "outputs": [
    {
     "name": "stdout",
     "output_type": "stream",
     "text": [
      "[[ 0.29628832  0.253867    0.34475423  0.12987275]\n",
      " [ 0.39844322  0.64958568  0.48644002 -1.        ]\n",
      " [ 0.50939438  0.64958568  0.79536209  1.        ]]\n"
     ]
    },
    {
     "data": {
      "text/plain": [
       "<matplotlib.axes._subplots.AxesSubplot at 0x2d342ecc5c0>"
      ]
     },
     "execution_count": 27,
     "metadata": {},
     "output_type": "execute_result"
    },
    {
     "data": {
      "image/png": "[encoded data removed]",
      "text/plain": [
       "<matplotlib.figure.Figure at 0x2d3411fb588>"
      ]
     },
     "metadata": {},
     "output_type": "display_data"
    }
   ],
   "source": [
    "import pandas as pd\n",
    "import matplotlib.pyplot as plt\n",
    "import numpy as np\n",
    "import seaborn as sns\n",
    "\n",
    "%matplotlib inline\n",
    "\n",
    "vi_utility_dict = value_iteration(grid_mdp_1)\n",
    "vi_utility_array = np.ndarray((3,4))\n",
    "\n",
    "for key,value in vi_utility_dict.items():\n",
    "    vi_utility_array[key[1],key[0]] = value\n",
    "\n",
    "print(vi_utility_array)\n",
    "\n",
    "utility_array_df = pd.DataFrame(vi_utility_array)\n",
    "\n",
    "sns.heatmap(utility_array_df, annot=True)"
   ]
  }
 ],
 "metadata": {
  "kernelspec": {
   "display_name": "Python 3",
   "language": "python",
   "name": "python3"
  },
  "language_info": {
   "codemirror_mode": {
    "name": "ipython",
    "version": 3
   },
   "file_extension": ".py",
   "mimetype": "text/x-python",
   "name": "python",
   "nbconvert_exporter": "python",
   "pygments_lexer": "ipython3",
   "version": "3.6.3"
  }
 },
 "nbformat": 4,
 "nbformat_minor": 2
}
