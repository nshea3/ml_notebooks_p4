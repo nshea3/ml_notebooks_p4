{
 "cells": [
  {
   "cell_type": "code",
   "execution_count": 1,
   "metadata": {},
   "outputs": [],
   "source": [
    "import itertools\n",
    "import seaborn as sns\n",
    "import pandas as pd\n",
    "import matplotlib.pyplot as plt\n",
    "import difflib\n",
    "import timeit\n",
    "\n",
    "from rl import *\n",
    "from mdp import *\n",
    "from utils import *\n",
    "\n",
    "%matplotlib inline\n",
    "\n",
    "np.random.seed(0)"
   ]
  },
  {
   "cell_type": "code",
   "execution_count": 2,
   "metadata": {},
   "outputs": [],
   "source": [
    "gridmdp_small = GridMDP([[-0.04, -0.04, -0.04, +1],\n",
    "                   [-0.04, None, -0.04, -1],\n",
    "                   [-0.04, -0.04, -0.04, -0.04]],\n",
    "                   terminals=[(3, 2), (3, 1)])"
   ]
  },
  {
   "cell_type": "code",
   "execution_count": 3,
   "metadata": {},
   "outputs": [],
   "source": [
    "optimal_policy_small = best_policy(gridmdp_small, value_iteration(gridmdp_small, epsilon = 0.0)[0])"
   ]
  },
  {
   "cell_type": "code",
   "execution_count": 4,
   "metadata": {},
   "outputs": [
    {
     "data": {
      "text/plain": [
       "'vi_utility_array = utility_dict_toarray(U_vi, (3,4))\\n\\nprint(vi_utility_array)\\n\\nutility_array_df = pd.DataFrame(vi_utility_array)\\nvi_heatmap = sns.heatmap(utility_array_df, annot=True).set_title(\"Converged Utility Function (Value Iteration)\")'"
      ]
     },
     "execution_count": 4,
     "metadata": {},
     "output_type": "execute_result"
    }
   ],
   "source": [
    "def utility_dict_toarray(utility_dict, shape):\n",
    "    utility_array = np.ndarray(shape)\n",
    "    for (r, c) in itertools.product(range(utility_array.shape[0]), range(utility_array.shape[1])):\n",
    "        utility_array[r,c] = utility_dict.get((c, r), np.NaN)\n",
    "    return np.flip(utility_array, 0)\n",
    "\n",
    "\"\"\"vi_utility_array = utility_dict_toarray(U_vi, (3,4))\n",
    "\n",
    "print(vi_utility_array)\n",
    "\n",
    "utility_array_df = pd.DataFrame(vi_utility_array)\n",
    "vi_heatmap = sns.heatmap(utility_array_df, annot=True).set_title(\"Converged Utility Function (Value Iteration)\")\"\"\""
   ]
  },
  {
   "cell_type": "code",
   "execution_count": 5,
   "metadata": {},
   "outputs": [],
   "source": [
    "###Function to return % match strategy \n",
    "def strat_match_pct(strat1, strat2, states):\n",
    "    optimal = [strat1.get(state) for state in sorted(states)]\n",
    "    suboptimal = [strat2.get(state) for state in sorted(states)]\n",
    "    sm = difflib.SequenceMatcher(None,optimal,suboptimal)\n",
    "    sm_ratio = sm.ratio()\n",
    "    return sm_ratio"
   ]
  },
  {
   "cell_type": "code",
   "execution_count": 21,
   "metadata": {},
   "outputs": [],
   "source": [
    "def q_policy(q_agent, mdp_problem):\n",
    "    policy = {}\n",
    "    for state in mdp_problem.states:\n",
    "        if state not in mdp_problem.terminals:\n",
    "            qvals = []\n",
    "            for action in mdp_problem.actions(state):\n",
    "                qvals.append(q_agent.Q.get((state,action)))\n",
    "            try:\n",
    "                policy[state] = actions[qvals.index(max(qvals))]\n",
    "            except:\n",
    "                pass\n",
    "    return policy"
   ]
  },
  {
   "cell_type": "code",
   "execution_count": 51,
   "metadata": {},
   "outputs": [
    {
     "name": "stdout",
     "output_type": "stream",
     "text": [
      "978\n",
      "0.10047118222428253\n",
      "{(0, 1): (0, 1), (1, 2): (1, 0), (0, 0): (0, 1), (3, 0): (-1, 0), (2, 1): (0, 1), (2, 0): (0, 1), (2, 2): (1, 0), (1, 0): (1, 0), (0, 2): (1, 0)}\n",
      ">   >      >   None\n",
      "^   None   ^   None\n",
      "^   >      ^   <   \n"
     ]
    },
    {
     "data": {
      "image/png": "[encoded data removed]",
      "text/plain": [
       "<matplotlib.figure.Figure at 0x1d5ed64a4a8>"
      ]
     },
     "metadata": {},
     "output_type": "display_data"
    }
   ],
   "source": [
    "\n",
    "q_agent = QLearningAgent(gridmdp_small, Ne=100, Rplus=1, alpha=lambda n: 100./(99+n))\n",
    "\n",
    "q_agent.Q\n",
    "\n",
    "actions = [(1, 0), (0, 1), (-1, 0), (0, -1)]\n",
    "\n",
    "#Average iterations until convergence \n",
    "\n",
    "match_pcts = []\n",
    "\n",
    "start_time = timeit.default_timer()\n",
    "\n",
    "for i in range(10000):\n",
    "    run_single_trial(q_agent,gridmdp_small)\n",
    "    policy = q_policy(q_agent, gridmdp_small)\n",
    "    match_pct = strat_match_pct(optimal_policy_small, policy, gridmdp_small.states)\n",
    "    match_pcts.append(match_pct)\n",
    "    if match_pct == 1.0:\n",
    "        print(i)\n",
    "        break\n",
    "\n",
    "elapsed = timeit.default_timer() - start_time\n",
    "print(elapsed)\n",
    "\n",
    "plt.plot(match_pcts)\n",
    "\n",
    "\n",
    "policy = q_policy(q_agent, gridmdp_small)\n",
    "\n",
    "plt.suptitle(\"% Match to Optimal versus number of iterations\")\n",
    "plt.ylabel(\"% Match to Optimal\")\n",
    "plt.xlabel(\"Number of iterations\")\n",
    "plt.ylim((0,1))\n",
    "\n",
    "print(policy)\n",
    "print_table(gridmdp_small.to_arrows(policy))\n",
    "\n",
    "#print(q_agent.Q)"
   ]
  },
  {
   "cell_type": "code",
   "execution_count": 53,
   "metadata": {},
   "outputs": [
    {
     "name": "stdout",
     "output_type": "stream",
     "text": [
      "704\n",
      "0.07157333333452698\n",
      "{(0, 1): (0, 1), (1, 2): (1, 0), (0, 0): (0, 1), (3, 0): (-1, 0), (2, 1): (0, 1), (2, 0): (0, 1), (2, 2): (1, 0), (1, 0): (1, 0), (0, 2): (1, 0)}\n",
      ">   >      >   None\n",
      "^   None   ^   None\n",
      "^   >      ^   <   \n"
     ]
    },
    {
     "data": {
      "image/png": "[encoded data removed]",
      "text/plain": [
       "<matplotlib.figure.Figure at 0x1d5ed6c5940>"
      ]
     },
     "metadata": {},
     "output_type": "display_data"
    }
   ],
   "source": [
    "q_agent = QLearningAgent(gridmdp_small, Ne=50, Rplus=1, alpha=lambda n: 100./(99+n))\n",
    "\n",
    "q_agent.Q\n",
    "\n",
    "actions = [(1, 0), (0, 1), (-1, 0), (0, -1)]\n",
    "\n",
    "#Average iterations until convergence \n",
    "\n",
    "match_pcts = []\n",
    "\n",
    "start_time = timeit.default_timer()\n",
    "\n",
    "for i in range(10000):\n",
    "    run_single_trial(q_agent,gridmdp_small)\n",
    "    policy = q_policy(q_agent, gridmdp_small)\n",
    "    match_pct = strat_match_pct(optimal_policy_small, policy, gridmdp_small.states)\n",
    "    match_pcts.append(match_pct)\n",
    "    if match_pct == 1.0:\n",
    "        print(i)\n",
    "        break\n",
    "\n",
    "elapsed = timeit.default_timer() - start_time\n",
    "print(elapsed)\n",
    "\n",
    "plt.plot(match_pcts)\n",
    "\n",
    "\n",
    "policy = q_policy(q_agent, gridmdp_small)\n",
    "\n",
    "plt.suptitle(\"% Match to Optimal versus number of iterations\")\n",
    "plt.ylabel(\"% Match to Optimal\")\n",
    "plt.xlabel(\"Number of iterations\")\n",
    "plt.ylim((0,1))\n",
    "\n",
    "print(policy)\n",
    "print_table(gridmdp_small.to_arrows(policy))\n",
    "\n",
    "#print(q_agent.Q)"
   ]
  },
  {
   "cell_type": "code",
   "execution_count": 55,
   "metadata": {},
   "outputs": [
    {
     "name": "stdout",
     "output_type": "stream",
     "text": [
      "480\n",
      "0.051613582221762044\n",
      "{(0, 1): (0, 1), (1, 2): (1, 0), (0, 0): (0, 1), (3, 0): (-1, 0), (2, 1): (0, 1), (2, 0): (0, 1), (2, 2): (1, 0), (1, 0): (1, 0), (0, 2): (1, 0)}\n",
      ">   >      >   None\n",
      "^   None   ^   None\n",
      "^   >      ^   <   \n"
     ]
    },
    {
     "data": {
      "image/png": "[encoded data removed]",
      "text/plain": [
       "<matplotlib.figure.Figure at 0x1d5ed54cc88>"
      ]
     },
     "metadata": {},
     "output_type": "display_data"
    }
   ],
   "source": [
    "q_agent = QLearningAgent(gridmdp_small, Ne=50, Rplus=1, alpha=lambda n: 60./(59+n))\n",
    "\n",
    "q_agent.Q\n",
    "\n",
    "actions = [(1, 0), (0, 1), (-1, 0), (0, -1)]\n",
    "\n",
    "#Average iterations until convergence \n",
    "\n",
    "match_pcts = []\n",
    "\n",
    "start_time = timeit.default_timer()\n",
    "\n",
    "for i in range(10000):\n",
    "    run_single_trial(q_agent,gridmdp_small)\n",
    "    policy = q_policy(q_agent, gridmdp_small)\n",
    "    match_pct = strat_match_pct(optimal_policy_small, policy, gridmdp_small.states)\n",
    "    match_pcts.append(match_pct)\n",
    "    if match_pct == 1.0:\n",
    "        print(i)\n",
    "        break\n",
    "\n",
    "elapsed = timeit.default_timer() - start_time\n",
    "print(elapsed)\n",
    "\n",
    "\n",
    "plt.plot(match_pcts)\n",
    "\n",
    "\n",
    "policy = q_policy(q_agent, gridmdp_small)\n",
    "\n",
    "plt.suptitle(\"% Match to Optimal versus number of iterations\")\n",
    "plt.ylabel(\"% Match to Optimal\")\n",
    "plt.xlabel(\"Number of iterations\")\n",
    "plt.ylim((0,1))\n",
    "\n",
    "print(policy)\n",
    "print_table(gridmdp_small.to_arrows(policy))"
   ]
  },
  {
   "cell_type": "code",
   "execution_count": 70,
   "metadata": {},
   "outputs": [
    {
     "name": "stdout",
     "output_type": "stream",
     "text": [
      "<zip object at 0x000001D5ED3AF588>\n"
     ]
    },
    {
     "data": {
      "text/plain": [
       "<matplotlib.legend.Legend at 0x1d5f1a60748>"
      ]
     },
     "execution_count": 70,
     "metadata": {},
     "output_type": "execute_result"
    },
    {
     "data": {
      "image/png": "[encoded data removed]",
      "text/plain": [
       "<matplotlib.figure.Figure at 0x1d5f1ba5e80>"
      ]
     },
     "metadata": {},
     "output_type": "display_data"
    }
   ],
   "source": [
    "\n",
    "\n",
    "q_agent.Q\n",
    "\n",
    "actions = [(1, 0), (0, 1), (-1, 0), (0, -1)]\n",
    "\n",
    "#Average iterations until convergence \n",
    "\n",
    "match_iters = []\n",
    "match_time = []\n",
    "\n",
    "for x in range(100):\n",
    "    q_agent = QLearningAgent(gridmdp_small, Ne=50, Rplus=1, alpha=lambda n: 60./(59+n))\n",
    "    start_time = timeit.default_timer()\n",
    "    for i in range(10000):\n",
    "        run_single_trial(q_agent,gridmdp_small)\n",
    "        policy = q_policy(q_agent, gridmdp_small)\n",
    "        match_pct = strat_match_pct(optimal_policy_small, policy, gridmdp_small.states)\n",
    "        if match_pct == 1.0:\n",
    "            match_iters.append(i)\n",
    "            break\n",
    "    elapsed = timeit.default_timer() - start_time\n",
    "    match_time.append(elapsed)\n",
    "\n",
    "print(zip(match_time, match_iters))\n",
    "\n",
    "times_df = pd.DataFrame({'Time to Converge':match_time})\n",
    "\n",
    "sns.distplot( times_df[\"Time to Converge\"] , color=\"skyblue\", label=\"Value Iteration\")\n",
    "plt.xlabel(\"Time (s)\")\n",
    "plt.legend()\n"
   ]
  },
  {
   "cell_type": "code",
   "execution_count": 71,
   "metadata": {},
   "outputs": [
    {
     "name": "stdout",
     "output_type": "stream",
     "text": [
      "[(0.07350300444522873, 714), (0.04902741333353333, 514), (0.7611153066682164, 324), (0.7709769955545198, 1202), (0.03425223111116793, 520), (0.1259551288858347, 554), (0.04950840889068786, 528), (0.8019609599978139, 470), (0.05337201778093004, 572), (0.056614968889334705, 1366), (0.05305713777852361, 568), (0.05896874666723306, 504), (0.13163463111050078, 530), (0.7995141688879812, 680), (0.05311544888900244, 566), (0.04678001777938334, 548), (0.048349582222726895, 524), (0.06501461333027692, 730), (0.05301134222463588, 612), (0.7706976711124298, 730), (0.052043377778318245, 546), (0.05187185778049752, 526), (0.7972815644461662, 598), (0.06958108444450772, 506), (0.0580556799977785, 568), (0.07031722666579299, 674), (0.05183800888698897, 520), (0.05568312888863147, 548), (0.05815608888951829, 542), (0.051417884445982054, 510), (0.05484430222350056, 520), (0.062668515554833, 650), (0.051679857777344296, 470), (0.05513528889059671, 610), (0.052937671109248186, 626), (0.7536722488875967, 552), (0.05054407111310866, 624), (0.7666230044414988, 3858), (0.047204693331877934, 602), (0.061828266669181176, 510), (0.045996942219062475, 494), (0.058313671113864984, 556), (0.061700266669504344, 674), (0.7914882844452222, 900), (0.05264497777898214, 624), (0.06284117333416361, 520), (0.3112595911115932, 766), (0.05621048888860969, 1770), (0.048177208886045264, 526), (0.045471004446881125, 928), (0.052037120000022696, 652), (0.8074973866678192, 480), (0.06453020444678259, 530), (0.08479630222063861, 2386), (0.06453276444517542, 556), (0.051366968888032716, 616), (0.07585649777684011, 646), (0.16172259555605706, 552), (0.7696987022245594, 1084), (0.04830719999881694, 534), (0.7851579733360268, 588), (0.08316188444223371, 782), (0.059659662223566556, 574), (0.045310008888918674, 738), (0.05080035555511131, 1086), (0.7693195377760276, 552), (0.19562268444497022, 462), (0.051120924443239346, 776), (0.05720291555553558, 580), (0.776906240000244, 476), (0.06515541333646979, 526), (0.055167146667372435, 558), (0.09694492444759817, 790), (0.05131491555584944, 576), (0.055760213333996944, 440), (0.07714588444287074, 590), (0.7690928355550568, 446), (0.05701546666750801, 608), (0.07148487111044233, 602), (0.09837994666668237, 526), (0.05375544888738659, 596), (0.045919288888399024, 512)]\n"
     ]
    },
    {
     "data": {
      "image/png": "[encoded data removed]",
      "text/plain": [
       "<matplotlib.figure.Figure at 0x1d5eda0b6d8>"
      ]
     },
     "metadata": {},
     "output_type": "display_data"
    }
   ],
   "source": [
    "times_df = pd.DataFrame({'Iterations to Converge':match_iters})\n",
    "\n",
    "sns.distplot( times_df[\"Iterations to Converge\"] , color=\"skyblue\", label=\"Iterations to Converge\")\n",
    "plt.xlabel(\"Iterations\")\n",
    "plt.legend()\n",
    "\n",
    "print(list(zip(match_time, match_iters)))"
   ]
  },
  {
   "cell_type": "code",
   "execution_count": null,
   "metadata": {},
   "outputs": [],
   "source": [
    "times_df = pd.DataFrame({'Time to Converge':match_time})\n",
    "\n",
    "sns.distplot( times_df[\"Time to Converge\"] , color=\"skyblue\", label=\"Time to Converge\")\n",
    "plt.xlabel(\"Time (s)\")\n",
    "plt.legend()"
   ]
  },
  {
   "cell_type": "code",
   "execution_count": 33,
   "metadata": {},
   "outputs": [
    {
     "ename": "KeyError",
     "evalue": "(0, 2)",
     "output_type": "error",
     "traceback": [
      "\u001b[1;31m---------------------------------------------------------------------------\u001b[0m",
      "\u001b[1;31mKeyError\u001b[0m                                  Traceback (most recent call last)",
      "\u001b[1;32m<ipython-input-33-b741956d57bc>\u001b[0m in \u001b[0;36m<module>\u001b[1;34m()\u001b[0m\n\u001b[0;32m     45\u001b[0m         break'''\n\u001b[0;32m     46\u001b[0m \u001b[1;33m\u001b[0m\u001b[0m\n\u001b[1;32m---> 47\u001b[1;33m \u001b[0mq_time\u001b[0m \u001b[1;33m=\u001b[0m \u001b[0mtimeit\u001b[0m\u001b[1;33m.\u001b[0m\u001b[0mTimer\u001b[0m\u001b[1;33m(\u001b[0m\u001b[0mq_setup\u001b[0m\u001b[1;33m,\u001b[0m \u001b[0msetup\u001b[0m \u001b[1;33m=\u001b[0m \u001b[0msetup\u001b[0m\u001b[1;33m)\u001b[0m\u001b[1;33m.\u001b[0m\u001b[0mrepeat\u001b[0m\u001b[1;33m(\u001b[0m\u001b[1;36m100\u001b[0m\u001b[1;33m,\u001b[0m\u001b[1;36m10\u001b[0m\u001b[1;33m)\u001b[0m\u001b[1;33m\u001b[0m\u001b[0m\n\u001b[0m\u001b[0;32m     48\u001b[0m \u001b[0mpi_time\u001b[0m \u001b[1;33m=\u001b[0m \u001b[0mtimeit\u001b[0m\u001b[1;33m.\u001b[0m\u001b[0mTimer\u001b[0m\u001b[1;33m(\u001b[0m\u001b[1;34m'mdp.policy_iteration(gridmdp, k=3)'\u001b[0m\u001b[1;33m,\u001b[0m \u001b[0msetup\u001b[0m \u001b[1;33m=\u001b[0m \u001b[0msetup\u001b[0m\u001b[1;33m)\u001b[0m\u001b[1;33m.\u001b[0m\u001b[0mrepeat\u001b[0m\u001b[1;33m(\u001b[0m\u001b[1;36m100\u001b[0m\u001b[1;33m,\u001b[0m\u001b[1;36m10\u001b[0m\u001b[1;33m)\u001b[0m\u001b[1;33m\u001b[0m\u001b[0m\n\u001b[0;32m     49\u001b[0m \u001b[0mvi_time\u001b[0m \u001b[1;33m=\u001b[0m \u001b[0mtimeit\u001b[0m\u001b[1;33m.\u001b[0m\u001b[0mTimer\u001b[0m\u001b[1;33m(\u001b[0m\u001b[1;34m'mdp.value_iteration(gridmdp, epsilon=1)'\u001b[0m\u001b[1;33m,\u001b[0m \u001b[0msetup\u001b[0m \u001b[1;33m=\u001b[0m \u001b[0msetup\u001b[0m\u001b[1;33m)\u001b[0m\u001b[1;33m.\u001b[0m\u001b[0mrepeat\u001b[0m\u001b[1;33m(\u001b[0m\u001b[1;36m100\u001b[0m\u001b[1;33m,\u001b[0m\u001b[1;36m10\u001b[0m\u001b[1;33m)\u001b[0m\u001b[1;33m\u001b[0m\u001b[0m\n",
      "\u001b[1;32m~\\Anaconda3\\lib\\timeit.py\u001b[0m in \u001b[0;36mrepeat\u001b[1;34m(self, repeat, number)\u001b[0m\n\u001b[0;32m    204\u001b[0m         \u001b[0mr\u001b[0m \u001b[1;33m=\u001b[0m \u001b[1;33m[\u001b[0m\u001b[1;33m]\u001b[0m\u001b[1;33m\u001b[0m\u001b[0m\n\u001b[0;32m    205\u001b[0m         \u001b[1;32mfor\u001b[0m \u001b[0mi\u001b[0m \u001b[1;32min\u001b[0m \u001b[0mrange\u001b[0m\u001b[1;33m(\u001b[0m\u001b[0mrepeat\u001b[0m\u001b[1;33m)\u001b[0m\u001b[1;33m:\u001b[0m\u001b[1;33m\u001b[0m\u001b[0m\n\u001b[1;32m--> 206\u001b[1;33m             \u001b[0mt\u001b[0m \u001b[1;33m=\u001b[0m \u001b[0mself\u001b[0m\u001b[1;33m.\u001b[0m\u001b[0mtimeit\u001b[0m\u001b[1;33m(\u001b[0m\u001b[0mnumber\u001b[0m\u001b[1;33m)\u001b[0m\u001b[1;33m\u001b[0m\u001b[0m\n\u001b[0m\u001b[0;32m    207\u001b[0m             \u001b[0mr\u001b[0m\u001b[1;33m.\u001b[0m\u001b[0mappend\u001b[0m\u001b[1;33m(\u001b[0m\u001b[0mt\u001b[0m\u001b[1;33m)\u001b[0m\u001b[1;33m\u001b[0m\u001b[0m\n\u001b[0;32m    208\u001b[0m         \u001b[1;32mreturn\u001b[0m \u001b[0mr\u001b[0m\u001b[1;33m\u001b[0m\u001b[0m\n",
      "\u001b[1;32m~\\Anaconda3\\lib\\timeit.py\u001b[0m in \u001b[0;36mtimeit\u001b[1;34m(self, number)\u001b[0m\n\u001b[0;32m    176\u001b[0m         \u001b[0mgc\u001b[0m\u001b[1;33m.\u001b[0m\u001b[0mdisable\u001b[0m\u001b[1;33m(\u001b[0m\u001b[1;33m)\u001b[0m\u001b[1;33m\u001b[0m\u001b[0m\n\u001b[0;32m    177\u001b[0m         \u001b[1;32mtry\u001b[0m\u001b[1;33m:\u001b[0m\u001b[1;33m\u001b[0m\u001b[0m\n\u001b[1;32m--> 178\u001b[1;33m             \u001b[0mtiming\u001b[0m \u001b[1;33m=\u001b[0m \u001b[0mself\u001b[0m\u001b[1;33m.\u001b[0m\u001b[0minner\u001b[0m\u001b[1;33m(\u001b[0m\u001b[0mit\u001b[0m\u001b[1;33m,\u001b[0m \u001b[0mself\u001b[0m\u001b[1;33m.\u001b[0m\u001b[0mtimer\u001b[0m\u001b[1;33m)\u001b[0m\u001b[1;33m\u001b[0m\u001b[0m\n\u001b[0m\u001b[0;32m    179\u001b[0m         \u001b[1;32mfinally\u001b[0m\u001b[1;33m:\u001b[0m\u001b[1;33m\u001b[0m\u001b[0m\n\u001b[0;32m    180\u001b[0m             \u001b[1;32mif\u001b[0m \u001b[0mgcold\u001b[0m\u001b[1;33m:\u001b[0m\u001b[1;33m\u001b[0m\u001b[0m\n",
      "\u001b[1;32m~\\Anaconda3\\lib\\timeit.py\u001b[0m in \u001b[0;36minner\u001b[1;34m(_it, _timer)\u001b[0m\n",
      "\u001b[1;32m~\\Anaconda3\\lib\\timeit.py\u001b[0m in \u001b[0;36mstrat_match_pct\u001b[1;34m(strat1, strat2, states)\u001b[0m\n",
      "\u001b[1;32m~\\Anaconda3\\lib\\timeit.py\u001b[0m in \u001b[0;36m<listcomp>\u001b[1;34m(.0)\u001b[0m\n",
      "\u001b[1;31mKeyError\u001b[0m: (0, 2)"
     ]
    }
   ],
   "source": [
    "setup = '''\n",
    "\n",
    "\n",
    "import difflib\n",
    "\n",
    "from rl import QLearningAgent, run_single_trial\n",
    "from mdp import GridMDP, best_policy, value_iteration\n",
    "\n",
    "gridmdp_small = GridMDP([[-0.04, -0.04, -0.04, +1],\n",
    "                   [-0.04, None, -0.04, -1],\n",
    "                   [-0.04, -0.04, -0.04, -0.04]],\n",
    "                   terminals=[(3, 2), (3, 1)],  gamma = 0.9)\n",
    "\n",
    "optimal_policy_small = best_policy(gridmdp_small, value_iteration(gridmdp_small, epsilon = 0.0)[0])\n",
    "\n",
    "\n",
    "q_agent = QLearningAgent(gridmdp_small, Ne=10, Rplus=1, alpha=lambda n: 1./(n))\n",
    "\n",
    "def q_policy(q_agent, mdp_problem, actions =  [(1, 0), (0, 1), (-1, 0), (0, -1)]):\n",
    "    policy = {}\n",
    "    for state in mdp_problem.states:\n",
    "        qvals = []\n",
    "        for action in actions:\n",
    "            qvals.append(q_agent.Q.get((state,action)))\n",
    "        try:\n",
    "            policy[state] = actions[qvals.index(max(qvals))]\n",
    "        except:\n",
    "            pass\n",
    "    return policy\n",
    "\n",
    "def strat_match_pct(strat1, strat2, states):\n",
    "    optimal = [strat1[state] for state in sorted(states)]\n",
    "    suboptimal = [strat2[state] for state in sorted(states)]\n",
    "    sm = difflib.SequenceMatcher(None,optimal,suboptimal)\n",
    "    sm_ratio = sm.ratio()\n",
    "    return sm_ratio\n",
    "'''\n",
    "\n",
    "\n",
    "q_setup = '''for i in range(1000):\n",
    "    run_single_trial(q_agent,gridmdp_small)\n",
    "    policy = q_policy(q_agent, gridmdp_small)\n",
    "    match_pct = strat_match_pct(optimal_policy_small, policy, gridmdp_small.states)\n",
    "    if match_pct == 1.0:\n",
    "        break'''\n",
    "\n",
    "q_time = timeit.Timer(q_setup, setup = setup).repeat(100,10)\n",
    "pi_time = timeit.Timer('mdp.policy_iteration(gridmdp, k=3)', setup = setup).repeat(100,10)\n",
    "vi_time = timeit.Timer('mdp.value_iteration(gridmdp, epsilon=1)', setup = setup).repeat(100,10)\n",
    "\n",
    "\n",
    "times_df = pd.DataFrame({'Value Iteration':vi_time, 'Policy Iteration':pi_time, 'Q Learning':q_time})\n",
    "\n",
    "sns.distplot( times_df[\"Q Learning\"] , color=\"green\", label=\"Q Learning\")\n",
    "sns.distplot( times_df[\"Value Iteration\"] , color=\"skyblue\", label=\"Value Iteration\")\n",
    "sns.distplot( times_df[\"Policy Iteration\"] , color=\"red\", label=\"Policy Iteration\")\n",
    "plt.xlabel(\"Time (s)\")\n",
    "plt.legend()"
   ]
  },
  {
   "cell_type": "markdown",
   "metadata": {},
   "source": [
    "# Large MDP"
   ]
  },
  {
   "cell_type": "code",
   "execution_count": 28,
   "metadata": {},
   "outputs": [],
   "source": [
    "gridmdp_large = GridMDP([[-0.04, -0.04, -0.04, -0.04, -0.04, -0.04, -0.04, -0.04],\n",
    "                   [-0.04, None, -0.04, -0.04, -0.04, None, -0.04, -0.04],\n",
    "                   [-0.04, -0.04, -0.04, -0.04, -0.04, -0.04, -0.04, -0.04],\n",
    "                   [-0.04, -0.04, -0.04, -0.04, -0.04, -0.04, -0.04, -0.04],\n",
    "                   [-0.04, None, -0.04, -0.04, -0.04, None, -0.04, +1],\n",
    "                   [-0.04, -0.04, -0.04, -0.04, -0.04, -0.04, -0.04, -1]],\n",
    "                   terminals=[(7, 0), (7, 1)])\n",
    "\n",
    "optimal_policy_large = best_policy(gridmdp_large, value_iteration(gridmdp_large, epsilon = 0.0)[0])"
   ]
  },
  {
   "cell_type": "code",
   "execution_count": 7,
   "metadata": {},
   "outputs": [],
   "source": []
  },
  {
   "cell_type": "code",
   "execution_count": null,
   "metadata": {},
   "outputs": [],
   "source": []
  },
  {
   "cell_type": "code",
   "execution_count": 45,
   "metadata": {},
   "outputs": [
    {
     "name": "stdout",
     "output_type": "stream",
     "text": [
      "{(7, 3): (0, -1), (1, 3): (1, 0), (3, 0): (1, 0), (0, 2): (1, 0), (2, 1): (1, 0), (6, 2): (1, 0), (2, 5): (1, 0), (0, 3): (1, 0), (7, 2): (0, -1), (4, 0): (0, 1), (1, 2): (1, 0), (3, 3): (1, 0), (5, 5): (1, 0), (4, 4): (0, -1), (6, 3): (0, -1), (1, 5): (1, 0), (5, 0): (-1, 0), (2, 2): (1, 0), (0, 4): (0, -1), (4, 1): (0, 1), (6, 4): (0, -1), (3, 2): (1, 0), (0, 0): (1, 0), (4, 5): (1, 0), (5, 2): (1, 0), (6, 0): (-1, 0), (7, 5): (0, -1), (0, 5): (1, 0), (2, 3): (1, 0), (4, 2): (1, 0), (1, 0): (1, 0), (6, 5): (1, 0), (3, 5): (1, 0), (0, 1): (0, 1), (5, 3): (1, 0), (6, 1): (1, 0), (3, 1): (1, 0), (7, 4): (0, -1), (2, 0): (1, 0), (4, 3): (1, 0), (3, 4): (1, 0), (2, 4): (0, -1)}\n",
      ">   >      >   >   >   >      >   v   \n",
      "v   None   v   >   v   None   v   v   \n",
      ">   >      >   >   >   >      v   v   \n",
      ">   >      >   >   >   >      >   v   \n",
      "^   None   >   >   ^   None   >   None\n",
      ">   >      >   >   ^   <      <   None\n"
     ]
    }
   ],
   "source": [
    "from rl import *\n",
    "q_agent = QLearningAgent(gridmdp, Ne=5, Rplus=2, alpha=lambda n: 60./(59+n))\n",
    "\n",
    "for i in range(100000):\n",
    "    run_single_trial(q_agent,gridmdp)\n",
    "\n",
    "q_agent.Q\n",
    "\n",
    "actions = [(1, 0), (0, 1), (-1, 0), (0, -1)]\n",
    "\n",
    "def q_policy(q_agent, mdp_problem):\n",
    "    policy = {}\n",
    "    for state in gridmdp.states:\n",
    "        qvals = []\n",
    "        for action in actions:\n",
    "            qvals.append(q_agent.Q.get((state,action)))\n",
    "        try:\n",
    "            policy[state] = actions[qvals.index(max(qvals))]\n",
    "        except:\n",
    "            pass\n",
    "    return policy\n",
    "\n",
    "policy = q_policy(q_agent, gridmdp)\n",
    "\n",
    "print(policy)\n",
    "print_table(gridmdp.to_arrows(policy))\n",
    "\n",
    "#print(q_agent.Q)"
   ]
  },
  {
   "cell_type": "code",
   "execution_count": 68,
   "metadata": {},
   "outputs": [
    {
     "name": "stdout",
     "output_type": "stream",
     "text": [
      "0\n",
      "10000\n",
      "20000\n",
      "30000\n",
      "40000\n",
      "50000\n",
      "60000\n",
      "70000\n",
      "80000\n",
      "90000\n",
      "100000\n",
      "110000\n",
      "120000\n",
      "130000\n",
      "140000\n",
      "150000\n",
      "160000\n",
      "170000\n",
      "180000\n",
      "190000\n"
     ]
    },
    {
     "data": {
      "text/plain": [
       "(0, 1)"
      ]
     },
     "execution_count": 68,
     "metadata": {},
     "output_type": "execute_result"
    },
    {
     "data": {
      "image/png": "[encoded data removed]",
      "text/plain": [
       "<matplotlib.figure.Figure at 0x1d5ed3c7550>"
      ]
     },
     "metadata": {},
     "output_type": "display_data"
    }
   ],
   "source": [
    "match_pcts = []\n",
    "\n",
    "q_agent_l = QLearningAgent(gridmdp_large, Ne=500, Rplus=1, alpha=lambda n: 100./(99 + n))\n",
    "\n",
    "for i in range(200000):\n",
    "    if i % 10000 == 0:\n",
    "        print(i)\n",
    "    run_single_trial(q_agent_l,gridmdp_large)\n",
    "    policy = q_policy(q_agent_l, gridmdp_large)\n",
    "    match_pct = strat_match_pct(optimal_policy_large, policy, gridmdp_large.states)\n",
    "    match_pcts.append(match_pct)\n",
    "    if match_pct == 1.0:\n",
    "        break\n",
    "\n",
    "plt.plot(match_pcts)\n",
    "\n",
    "policy = q_policy(q_agent_l, gridmdp_large)\n",
    "\n",
    "plt.suptitle(\"% Match to Optimal versus number of iterations\")\n",
    "plt.ylabel(\"% Match to Optimal\")\n",
    "plt.xlabel(\"Number of iterations\")\n",
    "plt.ylim((0,1))\n",
    "\n",
    "#print(policy)\n",
    "#print_table(gridmdp.to_arrows(policy))\n",
    "\n",
    "#print(q_agent.Q)"
   ]
  },
  {
   "cell_type": "code",
   "execution_count": 38,
   "metadata": {},
   "outputs": [
    {
     "name": "stdout",
     "output_type": "stream",
     "text": [
      "0\n",
      "10000\n",
      "20000\n",
      "30000\n",
      "40000\n",
      "50000\n",
      "60000\n",
      "70000\n",
      "80000\n",
      "90000\n"
     ]
    },
    {
     "data": {
      "text/plain": [
       "(0, 1)"
      ]
     },
     "execution_count": 38,
     "metadata": {},
     "output_type": "execute_result"
    },
    {
     "data": {
      "image/png": "[encoded data removed]",
      "text/plain": [
       "<matplotlib.figure.Figure at 0x1d5ed451518>"
      ]
     },
     "metadata": {},
     "output_type": "display_data"
    }
   ],
   "source": [
    "match_pcts = []\n",
    "\n",
    "q_agent_l = QLearningAgent(gridmdp_large, Ne=50, Rplus=100, alpha=lambda n: 100./(99+n))\n",
    "\n",
    "for i in range(100000):\n",
    "    if i % 10000 == 0:\n",
    "        print(i)\n",
    "    run_single_trial(q_agent_l,gridmdp_large)\n",
    "    policy = q_policy(q_agent_l, gridmdp_large)\n",
    "    match_pct = strat_match_pct(optimal_policy_large, policy, gridmdp_large.states)\n",
    "    match_pcts.append(match_pct)\n",
    "    if match_pct == 1.0:\n",
    "        break\n",
    "\n",
    "plt.plot(match_pcts)\n",
    "\n",
    "policy = q_policy(q_agent_l, gridmdp_large)\n",
    "\n",
    "plt.suptitle(\"% Match to Optimal versus number of iterations\")\n",
    "plt.ylabel(\"% Match to Optimal\")\n",
    "plt.xlabel(\"Number of iterations\")\n",
    "plt.ylim((0,1))"
   ]
  },
  {
   "cell_type": "code",
   "execution_count": 33,
   "metadata": {},
   "outputs": [
    {
     "name": "stdout",
     "output_type": "stream",
     "text": [
      "0\n",
      "10000\n",
      "20000\n",
      "30000\n",
      "40000\n",
      "50000\n",
      "60000\n",
      "70000\n",
      "80000\n",
      "90000\n"
     ]
    },
    {
     "data": {
      "text/plain": [
       "(0, 1)"
      ]
     },
     "execution_count": 33,
     "metadata": {},
     "output_type": "execute_result"
    },
    {
     "data": {
      "image/png": "[encoded data removed]",
      "text/plain": [
       "<matplotlib.figure.Figure at 0x1d5ed0d6c88>"
      ]
     },
     "metadata": {},
     "output_type": "display_data"
    }
   ],
   "source": [
    "match_pcts = []\n",
    "\n",
    "q_agent_l = QLearningAgent(gridmdp_large, Ne=20, Rplus=1, alpha=lambda n: 100./(99+n))\n",
    "\n",
    "for i in range(100000):\n",
    "    if i % 10000 == 0:\n",
    "        print(i)\n",
    "    run_single_trial(q_agent_l,gridmdp_large)\n",
    "    policy = q_policy(q_agent_l, gridmdp_large)\n",
    "    match_pct = strat_match_pct(optimal_policy_large, policy, gridmdp_large.states)\n",
    "    match_pcts.append(match_pct)\n",
    "    if match_pct == 1.0:\n",
    "        break\n",
    "\n",
    "plt.plot(match_pcts)\n",
    "\n",
    "policy = q_policy(q_agent_l, gridmdp_large)\n",
    "\n",
    "plt.suptitle(\"% Match to Optimal versus number of iterations\")\n",
    "plt.ylabel(\"% Match to Optimal\")\n",
    "plt.xlabel(\"Number of iterations\")\n",
    "plt.ylim((0,1))"
   ]
  },
  {
   "cell_type": "code",
   "execution_count": 17,
   "metadata": {},
   "outputs": [
    {
     "name": "stdout",
     "output_type": "stream",
     "text": [
      ">   <      >   v   >   <      <   >   \n",
      "<   None   >   <   <   None   ^   >   \n",
      "<   ^      >   v   >   ^      >   v   \n",
      ">   >      ^   >   ^   >      v   v   \n",
      "^   None   >   >   ^   None   >   None\n",
      ">   >      >   <   ^   ^      ^   None\n"
     ]
    }
   ],
   "source": [
    "print_table(gridmdp_large.to_arrows(policy))"
   ]
  },
  {
   "cell_type": "code",
   "execution_count": 47,
   "metadata": {},
   "outputs": [
    {
     "name": "stdout",
     "output_type": "stream",
     "text": [
      "0.5227272727272727\n",
      "0.5\n",
      "0.5\n",
      "0.5681818181818182\n",
      "0.6136363636363636\n",
      "0.6136363636363636\n",
      "0.6818181818181818\n",
      "0.36363636363636365\n",
      "0.5909090909090909\n",
      "0.5681818181818182\n"
     ]
    }
   ],
   "source": [
    "###Getting converged value function\n",
    "##Need to run this multiple times to get an average performance\n",
    "##Also need to go through the Q learning algo to see what exactly is happening there\n",
    "\n",
    "vi_converged = best_policy(gridmdp, value_iteration(gridmdp, 0.0)[0])\n",
    "\n",
    "\n",
    "\n",
    "for x in 10*[10000]:\n",
    "    q_agent_iter = QLearningAgent(gridmdp, Ne=5, Rplus=2)\n",
    "    for i in range(x):\n",
    "        run_single_trial(q_agent_iter, gridmdp)\n",
    "    strat_match_pct(vi_converged, q_policy(q_agent_iter, gridmdp), gridmdp.states)\n",
    "\n"
   ]
  },
  {
   "cell_type": "code",
   "execution_count": 48,
   "metadata": {},
   "outputs": [
    {
     "name": "stdout",
     "output_type": "stream",
     "text": [
      "0.5227272727272727\n",
      "0.5681818181818182\n",
      "0.5681818181818182\n",
      "0.7272727272727273\n",
      "0.7045454545454546\n",
      "0.6590909090909091\n",
      "0.7045454545454546\n",
      "0.4772727272727273\n",
      "0.5681818181818182\n",
      "0.45454545454545453\n"
     ]
    }
   ],
   "source": [
    "for x in 10*[100000]:\n",
    "    q_agent_iter = QLearningAgent(gridmdp, Ne=5, Rplus=2)\n",
    "    for i in range(x):\n",
    "        run_single_trial(q_agent_iter, gridmdp)\n",
    "    strat_match_pct(vi_converged, q_policy(q_agent_iter, gridmdp), gridmdp.states)"
   ]
  },
  {
   "cell_type": "code",
   "execution_count": 15,
   "metadata": {},
   "outputs": [
    {
     "name": "stdout",
     "output_type": "stream",
     "text": [
      "^   >      >   >   v   >      >   v   \n",
      ">   None   >   v   v   None   >   <   \n",
      "v   >      v   v   v   >      v   v   \n",
      ">   >      >   >   >   >      >   v   \n",
      "^   None   >   >   ^   None   ^   None\n",
      ">   >      >   ^   ^   <      <   None\n"
     ]
    }
   ],
   "source": [
    "q_agent = QLearningAgent(gridmdp, Ne=5, Rplus=2, alpha=lambda n: 1000./(999+n))\n",
    "\n",
    "for i in range(100000):\n",
    "    run_single_trial(q_agent,gridmdp)\n",
    "\n",
    "q_agent.Q\n",
    "\n",
    "actions = [(1, 0), (0, 1), (-1, 0), (0, -1)]\n",
    "\n",
    "policy = {}\n",
    "for state in gridmdp.states:\n",
    "    qvals = []\n",
    "    for action in actions:\n",
    "        qvals.append(q_agent.Q.get((state,action)))\n",
    "    try:\n",
    "        policy[state] = actions[qvals.index(max(qvals))]\n",
    "    except:\n",
    "        pass\n",
    "        \n",
    "print_table(gridmdp.to_arrows(policy))"
   ]
  },
  {
   "cell_type": "code",
   "execution_count": null,
   "metadata": {},
   "outputs": [],
   "source": [
    "print_table(gridmdp.to_arrows(pi))"
   ]
  },
  {
   "cell_type": "code",
   "execution_count": null,
   "metadata": {},
   "outputs": [],
   "source": [
    "gridmdp_small_gamma = GridMDP([[-0.04, -0.04, -0.04, +1],\n",
    "                   [-0.04, None, -0.04, -1],\n",
    "                   [-0.04, -0.04, -0.04, -0.04]],\n",
    "                   terminals=[(3, 2), (3, 1)],  gamma = 0.5)\n"
   ]
  }
 ],
 "metadata": {
  "kernelspec": {
   "display_name": "Python 3",
   "language": "python",
   "name": "python3"
  },
  "language_info": {
   "codemirror_mode": {
    "name": "ipython",
    "version": 3
   },
   "file_extension": ".py",
   "mimetype": "text/x-python",
   "name": "python",
   "nbconvert_exporter": "python",
   "pygments_lexer": "ipython3",
   "version": "3.6.3"
  }
 },
 "nbformat": 4,
 "nbformat_minor": 2
}
